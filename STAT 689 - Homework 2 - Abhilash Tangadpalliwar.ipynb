{
 "cells": [
  {
   "cell_type": "markdown",
   "metadata": {},
   "source": [
    "# Tangadpalliwar, Abhilash - Homework 2\n",
    "\n",
    "## UIN: 825009793\n",
    "\n",
    "We numerically explore the relationship between error distributions, objective functions (least squares versus least absolute deviation, and computational speed.\n",
    "\n",
    "The following simulation creates a data set according to\n",
    "$$y_i = \\beta_1 + \\beta_2 x_i + \\beta_3 x_i^2 + \\epsilon_i.$$\n",
    "\n",
    "We generate $n$ observations from this model for $x$ on an equally spaced grid $[0,1]$. For $Yt$, the errors ($\\epsilon_i$) have a t-distribution with 2 degrees of freedom. For $Yn$, the errors have a standard normal distribution. We plot each of these data sets and the true regression function."
   ]
  },
  {
   "cell_type": "code",
   "execution_count": 45,
   "metadata": {
    "collapsed": true
   },
   "outputs": [],
   "source": [
    "# Initializing X matrix\n",
    "\n",
    "rm(list=ls())\n",
    "set.seed(1234)\n",
    "n <- 500\n",
    "x <- seq(from=0,to=1,length.out=n)\n",
    "X <- cbind(1,x,x^2)\n",
    "beta <- matrix(c(1,2,4),nrow=3)"
   ]
  },
  {
   "cell_type": "markdown",
   "metadata": {},
   "source": [
    "The t distribution produces a lot of outliers (some outliers are not shown because we restricted the y-axis to ylim in each plot). Given the data, out goal is to infer the parameters $\\beta$. We will consider two methods. The least squares method we discussed in class is\n",
    "$$ \\beta_{LS} = \\text{argmin}_{\\beta} (y_i - \\beta_1 - \\beta_2 x_i - \\beta_3 x_i^2)^2 =  \\text{argmin}_{\\beta} (Y - X\\beta)^T(Y - X\\beta) = (X^TX)^{-1}X^TY$$\n",
    "A second possibility is to find the [least absolute deviations](https://en.wikipedia.org/wiki/Least_absolute_deviations) estimator. We call this $\\beta_{LAD}$ which has the form\n",
    "$$\\beta_{LAD} = \\text{argmin}_{\\beta} |y_i - \\beta_1 - \\beta_2 x_i - \\beta_3 x_i^2|.$$\n",
    "This may also be known as $L_1$ regression or quantile regression with the $0.5$ quantile.\n",
    "\n",
    "In this homework you will fit both $\\beta_{LS}$ and $\\beta_{LAD}$ and compare the methods based on parameter estimation accuracy and speed."
   ]
  },
  {
   "cell_type": "markdown",
   "metadata": {},
   "source": [
    "## Question 1\n",
    "\n",
    "Fixing $X$, generate the $Yt$ and $Yn$ data $N=100$ times (note that $n$ is the sample size and $N$ is the number of times we run the simulation). Compute $\\beta_{LS}$ and $\\beta_{LAD}$ each time. Since $\\beta$ is a vector of length $3$, this will result in 4 matrices (LS for $Yt$ and $Yn$ and LAD for $Yt$ and $Yn$) with $N$ rows and 3 columns (you could store this output in other formats as well, but matrices are convenient).\n",
    "\n",
    "Make scatterplots of $\\beta_2$ versus $\\beta_3$ estimates for each type of data, estimator. This will produce four scatterplots. Mark the true $\\beta_2$ and $\\beta_3$ on each plot and comment of the quality of the estimators in the different settings. Your scatterplot should look similar to the ones below.\n",
    "\n",
    "**Tips for Fitting** For fitting $\\beta_{LS}$, you have many options in R (lm, lm.fit) and python (scipy.linalg.lstsq, sklearn.linear_model.LinearRegression). For fitting $\\beta_{LAD}$ in R you can use l1fit from the package L1pack or  rq.fit from quantreg. For fitting $\\beta_{LAD}$ in python the options are somewhat more limited:\n",
    "* [statsmodels](http://www.statsmodels.org/dev/examples/notebooks/generated/quantile_regression.html) requires use of pandas, calls the quantreg R package\n",
    "* generic optimizer such as [scipy.optimize](https://docs.scipy.org/doc/scipy/reference/tutorial/optimize.html)\n",
    "\n",
    "The later is a more general method that will likely be slower. But scipy.optimize is general and will be useful for many other problems. You may also use any other optimizer you find. "
   ]
  },
  {
   "cell_type": "code",
   "execution_count": 46,
   "metadata": {
    "collapsed": true
   },
   "outputs": [],
   "source": [
    "# Creating Y matrices for normal and t-distribution\n",
    "\n",
    "Yt=matrix(,nrow=500,ncol=100)\n",
    "Yn=matrix(,nrow=500,ncol=100)\n",
    "\n",
    "N=100\n",
    "\n",
    "for (i in 1:N) \n",
    "    {Yt[,i] <- X%*%beta + rt(n,df=2)\n",
    "     Yn[,i] <- X%*%beta + rnorm(n)\n",
    "    }"
   ]
  },
  {
   "cell_type": "code",
   "execution_count": 47,
   "metadata": {
    "collapsed": true
   },
   "outputs": [],
   "source": [
    "# Creating output matrices for storing Least Squares models' co-effecients\n",
    "\n",
    "output.tdist.ls=matrix(,nrow=3,ncol=100)\n",
    "output.norm.ls=matrix(,nrow=3,ncol=100)"
   ]
  },
  {
   "cell_type": "code",
   "execution_count": 48,
   "metadata": {},
   "outputs": [
    {
     "data": {
      "text/html": [
       "<table>\n",
       "<tbody>\n",
       "\t<tr><td>1.041848</td><td>2.261006</td><td>1.590283</td><td>2.929542</td><td>1.495795</td><td>2.198842</td><td>1.729554</td><td>1.722652</td><td>2.124522</td><td>1.951365</td><td>...     </td><td>3.054081</td><td>1.808778</td><td>1.835004</td><td>1.681578</td><td>1.824431</td><td>1.441117</td><td>2.383978</td><td>1.728558</td><td>1.666153</td><td>2.501480</td></tr>\n",
       "\t<tr><td>4.937847</td><td>3.675706</td><td>4.574074</td><td>3.146503</td><td>4.397912</td><td>4.107873</td><td>4.114616</td><td>4.276174</td><td>3.747158</td><td>3.950136</td><td>...     </td><td>2.981855</td><td>3.957672</td><td>4.306578</td><td>4.218495</td><td>4.142001</td><td>4.901088</td><td>3.651192</td><td>4.498422</td><td>4.195881</td><td>3.584995</td></tr>\n",
       "</tbody>\n",
       "</table>\n"
      ],
      "text/latex": [
       "\\begin{tabular}{llllllllllllllllllllllllllllllllllllllllllllllllllllllllllllllllllllllllllllllllllllllllllllllllllll}\n",
       "\t 1.041848 & 2.261006 & 1.590283 & 2.929542 & 1.495795 & 2.198842 & 1.729554 & 1.722652 & 2.124522 & 1.951365 & ...      & 3.054081 & 1.808778 & 1.835004 & 1.681578 & 1.824431 & 1.441117 & 2.383978 & 1.728558 & 1.666153 & 2.501480\\\\\n",
       "\t 4.937847 & 3.675706 & 4.574074 & 3.146503 & 4.397912 & 4.107873 & 4.114616 & 4.276174 & 3.747158 & 3.950136 & ...      & 2.981855 & 3.957672 & 4.306578 & 4.218495 & 4.142001 & 4.901088 & 3.651192 & 4.498422 & 4.195881 & 3.584995\\\\\n",
       "\\end{tabular}\n"
      ],
      "text/markdown": [
       "\n",
       "| 1.041848 | 2.261006 | 1.590283 | 2.929542 | 1.495795 | 2.198842 | 1.729554 | 1.722652 | 2.124522 | 1.951365 | ...      | 3.054081 | 1.808778 | 1.835004 | 1.681578 | 1.824431 | 1.441117 | 2.383978 | 1.728558 | 1.666153 | 2.501480 | \n",
       "| 4.937847 | 3.675706 | 4.574074 | 3.146503 | 4.397912 | 4.107873 | 4.114616 | 4.276174 | 3.747158 | 3.950136 | ...      | 2.981855 | 3.957672 | 4.306578 | 4.218495 | 4.142001 | 4.901088 | 3.651192 | 4.498422 | 4.195881 | 3.584995 | \n",
       "\n",
       "\n"
      ],
      "text/plain": [
       "     [,1]     [,2]     [,3]     [,4]     [,5]     [,6]     [,7]     [,8]    \n",
       "[1,] 1.041848 2.261006 1.590283 2.929542 1.495795 2.198842 1.729554 1.722652\n",
       "[2,] 4.937847 3.675706 4.574074 3.146503 4.397912 4.107873 4.114616 4.276174\n",
       "     [,9]     [,10]    [,11] [,12]    [,13]    [,14]    [,15]    [,16]   \n",
       "[1,] 2.124522 1.951365 ...   3.054081 1.808778 1.835004 1.681578 1.824431\n",
       "[2,] 3.747158 3.950136 ...   2.981855 3.957672 4.306578 4.218495 4.142001\n",
       "     [,17]    [,18]    [,19]    [,20]    [,21]   \n",
       "[1,] 1.441117 2.383978 1.728558 1.666153 2.501480\n",
       "[2,] 4.901088 3.651192 4.498422 4.195881 3.584995"
      ]
     },
     "metadata": {},
     "output_type": "display_data"
    }
   ],
   "source": [
    "#Least Squares estimates for normally distributed Y\n",
    "\n",
    "for (i in 1:N)\n",
    "    {model1=lm.fit(X,Yn[,i])\n",
    "     output.norm.ls[,i]=model1$coefficients\n",
    "     }\n",
    "output.norm.ls=output.norm.ls[-1,]\n",
    "output.norm.ls"
   ]
  },
  {
   "cell_type": "code",
   "execution_count": 49,
   "metadata": {},
   "outputs": [
    {
     "data": {
      "text/html": [
       "<table>\n",
       "<tbody>\n",
       "\t<tr><td>1.429478 </td><td>2.793093 </td><td>0.865696 </td><td>1.645431 </td><td>-1.190960</td><td>0.8219021</td><td>1.795423 </td><td>1.398424 </td><td>0.4010152</td><td>4.5784988</td><td>...      </td><td>3.039165 </td><td>-0.612499</td><td>1.232164 </td><td>4.75005  </td><td>2.099493 </td><td>1.602425 </td><td>3.218409 </td><td>2.620318 </td><td>2.88716  </td><td>1.014557 </td></tr>\n",
       "\t<tr><td>4.908305 </td><td>2.465236 </td><td>4.702245 </td><td>4.011904 </td><td> 7.152541</td><td>5.0863323</td><td>3.948903 </td><td>5.023896 </td><td>5.9398561</td><td>0.5935827</td><td>...      </td><td>3.951976 </td><td> 6.065665</td><td>4.364515 </td><td>1.08183  </td><td>3.206995 </td><td>3.887144 </td><td>2.591478 </td><td>3.202033 </td><td>3.20407  </td><td>4.362286 </td></tr>\n",
       "</tbody>\n",
       "</table>\n"
      ],
      "text/latex": [
       "\\begin{tabular}{llllllllllllllllllllllllllllllllllllllllllllllllllllllllllllllllllllllllllllllllllllllllllllllllllll}\n",
       "\t 1.429478  & 2.793093  & 0.865696  & 1.645431  & -1.190960 & 0.8219021 & 1.795423  & 1.398424  & 0.4010152 & 4.5784988 & ...       & 3.039165  & -0.612499 & 1.232164  & 4.75005   & 2.099493  & 1.602425  & 3.218409  & 2.620318  & 2.88716   & 1.014557 \\\\\n",
       "\t 4.908305  & 2.465236  & 4.702245  & 4.011904  &  7.152541 & 5.0863323 & 3.948903  & 5.023896  & 5.9398561 & 0.5935827 & ...       & 3.951976  &  6.065665 & 4.364515  & 1.08183   & 3.206995  & 3.887144  & 2.591478  & 3.202033  & 3.20407   & 4.362286 \\\\\n",
       "\\end{tabular}\n"
      ],
      "text/markdown": [
       "\n",
       "| 1.429478  | 2.793093  | 0.865696  | 1.645431  | -1.190960 | 0.8219021 | 1.795423  | 1.398424  | 0.4010152 | 4.5784988 | ...       | 3.039165  | -0.612499 | 1.232164  | 4.75005   | 2.099493  | 1.602425  | 3.218409  | 2.620318  | 2.88716   | 1.014557  | \n",
       "| 4.908305  | 2.465236  | 4.702245  | 4.011904  |  7.152541 | 5.0863323 | 3.948903  | 5.023896  | 5.9398561 | 0.5935827 | ...       | 3.951976  |  6.065665 | 4.364515  | 1.08183   | 3.206995  | 3.887144  | 2.591478  | 3.202033  | 3.20407   | 4.362286  | \n",
       "\n",
       "\n"
      ],
      "text/plain": [
       "     [,1]     [,2]     [,3]     [,4]     [,5]      [,6]      [,7]     [,8]    \n",
       "[1,] 1.429478 2.793093 0.865696 1.645431 -1.190960 0.8219021 1.795423 1.398424\n",
       "[2,] 4.908305 2.465236 4.702245 4.011904  7.152541 5.0863323 3.948903 5.023896\n",
       "     [,9]      [,10]     [,11] [,12]    [,13]     [,14]    [,15]   [,16]   \n",
       "[1,] 0.4010152 4.5784988 ...   3.039165 -0.612499 1.232164 4.75005 2.099493\n",
       "[2,] 5.9398561 0.5935827 ...   3.951976  6.065665 4.364515 1.08183 3.206995\n",
       "     [,17]    [,18]    [,19]    [,20]   [,21]   \n",
       "[1,] 1.602425 3.218409 2.620318 2.88716 1.014557\n",
       "[2,] 3.887144 2.591478 3.202033 3.20407 4.362286"
      ]
     },
     "metadata": {},
     "output_type": "display_data"
    }
   ],
   "source": [
    "#Least Squares estimates for t-distributed Y\n",
    "\n",
    "for (i in 1:N)\n",
    "    {model2=lm.fit(X,Yt[,i])\n",
    "     output.tdist.ls[,i]=model2$coefficients\n",
    "     }\n",
    "output.tdist.ls=output.tdist.ls[-1,]\n",
    "output.tdist.ls"
   ]
  },
  {
   "cell_type": "code",
   "execution_count": 13,
   "metadata": {},
   "outputs": [
    {
     "name": "stderr",
     "output_type": "stream",
     "text": [
      "Installing package into 'C:/Users/abhil/OneDrive/Documents/R/win-library/3.4'\n",
      "(as 'lib' is unspecified)\n"
     ]
    },
    {
     "name": "stdout",
     "output_type": "stream",
     "text": [
      "package 'L1pack' successfully unpacked and MD5 sums checked\n",
      "\n",
      "The downloaded binary packages are in\n",
      "\tC:\\Users\\abhil\\AppData\\Local\\Temp\\RtmpaciXCN\\downloaded_packages\n"
     ]
    }
   ],
   "source": [
    "install.packages('L1pack',repos = \"http://cran.us.r-project.org\")\n",
    "library(L1pack)"
   ]
  },
  {
   "cell_type": "code",
   "execution_count": 50,
   "metadata": {
    "collapsed": true
   },
   "outputs": [],
   "source": [
    "# Creating output matrices for storing LAD models' co-effecients\n",
    "\n",
    "output.tdist.lad=matrix(,nrow=3,ncol=100)\n",
    "output.norm.lad=matrix(,nrow=3,ncol=100)"
   ]
  },
  {
   "cell_type": "code",
   "execution_count": 51,
   "metadata": {},
   "outputs": [
    {
     "data": {
      "text/html": [
       "<table>\n",
       "<tbody>\n",
       "\t<tr><td>1.184128 </td><td>2.112981 </td><td>1.581694 </td><td>3.362733 </td><td>1.729299 </td><td>1.876089 </td><td>0.7438341</td><td>1.560867 </td><td>2.264751 </td><td>2.387233 </td><td>...      </td><td>2.848107 </td><td>1.523551 </td><td>1.764893 </td><td>1.466702 </td><td>1.585434 </td><td>1.800327 </td><td>2.221047 </td><td>1.510229 </td><td>2.377080 </td><td>3.367978 </td></tr>\n",
       "\t<tr><td>4.716541 </td><td>3.826161 </td><td>4.630109 </td><td>2.795545 </td><td>4.236143 </td><td>4.686106 </td><td>4.8329720</td><td>4.143104 </td><td>3.618114 </td><td>3.417345 </td><td>...      </td><td>3.067234 </td><td>4.103059 </td><td>4.324073 </td><td>4.365107 </td><td>4.230564 </td><td>4.497593 </td><td>3.675118 </td><td>4.801352 </td><td>3.584168 </td><td>2.592739 </td></tr>\n",
       "</tbody>\n",
       "</table>\n"
      ],
      "text/latex": [
       "\\begin{tabular}{llllllllllllllllllllllllllllllllllllllllllllllllllllllllllllllllllllllllllllllllllllllllllllllllllll}\n",
       "\t 1.184128  & 2.112981  & 1.581694  & 3.362733  & 1.729299  & 1.876089  & 0.7438341 & 1.560867  & 2.264751  & 2.387233  & ...       & 2.848107  & 1.523551  & 1.764893  & 1.466702  & 1.585434  & 1.800327  & 2.221047  & 1.510229  & 2.377080  & 3.367978 \\\\\n",
       "\t 4.716541  & 3.826161  & 4.630109  & 2.795545  & 4.236143  & 4.686106  & 4.8329720 & 4.143104  & 3.618114  & 3.417345  & ...       & 3.067234  & 4.103059  & 4.324073  & 4.365107  & 4.230564  & 4.497593  & 3.675118  & 4.801352  & 3.584168  & 2.592739 \\\\\n",
       "\\end{tabular}\n"
      ],
      "text/markdown": [
       "\n",
       "| 1.184128  | 2.112981  | 1.581694  | 3.362733  | 1.729299  | 1.876089  | 0.7438341 | 1.560867  | 2.264751  | 2.387233  | ...       | 2.848107  | 1.523551  | 1.764893  | 1.466702  | 1.585434  | 1.800327  | 2.221047  | 1.510229  | 2.377080  | 3.367978  | \n",
       "| 4.716541  | 3.826161  | 4.630109  | 2.795545  | 4.236143  | 4.686106  | 4.8329720 | 4.143104  | 3.618114  | 3.417345  | ...       | 3.067234  | 4.103059  | 4.324073  | 4.365107  | 4.230564  | 4.497593  | 3.675118  | 4.801352  | 3.584168  | 2.592739  | \n",
       "\n",
       "\n"
      ],
      "text/plain": [
       "     [,1]     [,2]     [,3]     [,4]     [,5]     [,6]     [,7]      [,8]    \n",
       "[1,] 1.184128 2.112981 1.581694 3.362733 1.729299 1.876089 0.7438341 1.560867\n",
       "[2,] 4.716541 3.826161 4.630109 2.795545 4.236143 4.686106 4.8329720 4.143104\n",
       "     [,9]     [,10]    [,11] [,12]    [,13]    [,14]    [,15]    [,16]   \n",
       "[1,] 2.264751 2.387233 ...   2.848107 1.523551 1.764893 1.466702 1.585434\n",
       "[2,] 3.618114 3.417345 ...   3.067234 4.103059 4.324073 4.365107 4.230564\n",
       "     [,17]    [,18]    [,19]    [,20]    [,21]   \n",
       "[1,] 1.800327 2.221047 1.510229 2.377080 3.367978\n",
       "[2,] 4.497593 3.675118 4.801352 3.584168 2.592739"
      ]
     },
     "metadata": {},
     "output_type": "display_data"
    }
   ],
   "source": [
    "#LAD estimates for normally distributed Y\n",
    "\n",
    "for (i in 1:N)\n",
    "    {model3=l1fit(X[,-1],Yn[,i])\n",
    "     output.norm.lad[,i]=model3$coefficients\n",
    "     }\n",
    "output.norm.lad=output.norm.lad[-1,]\n",
    "output.norm.lad"
   ]
  },
  {
   "cell_type": "code",
   "execution_count": 52,
   "metadata": {},
   "outputs": [
    {
     "data": {
      "text/html": [
       "<table>\n",
       "<tbody>\n",
       "\t<tr><td>0.7141812</td><td>1.329642 </td><td>1.029709 </td><td>1.444682 </td><td>0.9020346</td><td>1.279075 </td><td>2.237942 </td><td>0.4915196</td><td>1.479725 </td><td>2.941448 </td><td>...      </td><td>2.787849 </td><td>0.1914572</td><td>1.598888 </td><td>2.105967 </td><td>0.5812809</td><td>1.930582 </td><td>3.830879 </td><td>2.356669 </td><td>1.792396 </td><td>0.7805264</td></tr>\n",
       "\t<tr><td>5.1952181</td><td>4.712879 </td><td>4.536510 </td><td>4.749768 </td><td>5.4633331</td><td>4.878817 </td><td>3.642538 </td><td>5.4204407</td><td>4.699656 </td><td>2.745446 </td><td>...      </td><td>3.461375 </td><td>5.8963914</td><td>4.661741 </td><td>3.490656 </td><td>4.9884171</td><td>3.364551 </td><td>2.410777 </td><td>3.495471 </td><td>4.171587 </td><td>5.1232772</td></tr>\n",
       "</tbody>\n",
       "</table>\n"
      ],
      "text/latex": [
       "\\begin{tabular}{llllllllllllllllllllllllllllllllllllllllllllllllllllllllllllllllllllllllllllllllllllllllllllllllllll}\n",
       "\t 0.7141812 & 1.329642  & 1.029709  & 1.444682  & 0.9020346 & 1.279075  & 2.237942  & 0.4915196 & 1.479725  & 2.941448  & ...       & 2.787849  & 0.1914572 & 1.598888  & 2.105967  & 0.5812809 & 1.930582  & 3.830879  & 2.356669  & 1.792396  & 0.7805264\\\\\n",
       "\t 5.1952181 & 4.712879  & 4.536510  & 4.749768  & 5.4633331 & 4.878817  & 3.642538  & 5.4204407 & 4.699656  & 2.745446  & ...       & 3.461375  & 5.8963914 & 4.661741  & 3.490656  & 4.9884171 & 3.364551  & 2.410777  & 3.495471  & 4.171587  & 5.1232772\\\\\n",
       "\\end{tabular}\n"
      ],
      "text/markdown": [
       "\n",
       "| 0.7141812 | 1.329642  | 1.029709  | 1.444682  | 0.9020346 | 1.279075  | 2.237942  | 0.4915196 | 1.479725  | 2.941448  | ...       | 2.787849  | 0.1914572 | 1.598888  | 2.105967  | 0.5812809 | 1.930582  | 3.830879  | 2.356669  | 1.792396  | 0.7805264 | \n",
       "| 5.1952181 | 4.712879  | 4.536510  | 4.749768  | 5.4633331 | 4.878817  | 3.642538  | 5.4204407 | 4.699656  | 2.745446  | ...       | 3.461375  | 5.8963914 | 4.661741  | 3.490656  | 4.9884171 | 3.364551  | 2.410777  | 3.495471  | 4.171587  | 5.1232772 | \n",
       "\n",
       "\n"
      ],
      "text/plain": [
       "     [,1]      [,2]     [,3]     [,4]     [,5]      [,6]     [,7]     [,8]     \n",
       "[1,] 0.7141812 1.329642 1.029709 1.444682 0.9020346 1.279075 2.237942 0.4915196\n",
       "[2,] 5.1952181 4.712879 4.536510 4.749768 5.4633331 4.878817 3.642538 5.4204407\n",
       "     [,9]     [,10]    [,11] [,12]    [,13]     [,14]    [,15]    [,16]    \n",
       "[1,] 1.479725 2.941448 ...   2.787849 0.1914572 1.598888 2.105967 0.5812809\n",
       "[2,] 4.699656 2.745446 ...   3.461375 5.8963914 4.661741 3.490656 4.9884171\n",
       "     [,17]    [,18]    [,19]    [,20]    [,21]    \n",
       "[1,] 1.930582 3.830879 2.356669 1.792396 0.7805264\n",
       "[2,] 3.364551 2.410777 3.495471 4.171587 5.1232772"
      ]
     },
     "metadata": {},
     "output_type": "display_data"
    }
   ],
   "source": [
    "#LAD estimates for t-distributed Y\n",
    "\n",
    "for (i in 1:N)\n",
    "    {model4=l1fit(X[,-1],Yt[,i])\n",
    "     output.tdist.lad[,i]=model4$coefficients\n",
    "     }\n",
    "output.tdist.lad=output.tdist.lad[-1,]\n",
    "output.tdist.lad"
   ]
  },
  {
   "cell_type": "code",
   "execution_count": 53,
   "metadata": {},
   "outputs": [
    {
     "data": {
      "image/png": "[encoded data removed]",
      "text/plain": [
       "Plot with title \"LAD - Normal Errors\""
      ]
     },
     "metadata": {},
     "output_type": "display_data"
    }
   ],
   "source": [
    "# Plotting the coeffecients obtained from the 4 models above against the true co-effecients \n",
    "\n",
    "par(mfrow=c(2,2))\n",
    "\n",
    "# For t-distributed Y\n",
    "ylim <- c(0,11)\n",
    "xlim <- c(-10,10)\n",
    "\n",
    "plot(output.tdist.ls[1,],output.tdist.ls[2,],xlab=\"Beta_1\",ylab=\"Beta_2\",main=\"LS - t Errors\",xlim=xlim,ylim=ylim)\n",
    "points(2,4, col=\"red1\", pch=19, cex=1.5)\n",
    "plot(output.tdist.lad[1,],output.tdist.lad[2,],xlab=\"Beta_1\",ylab=\"Beta_2\",main=\"LAD - t Errors\",xlim=xlim,ylim=ylim)\n",
    "points(2,4, col=\"red1\", pch=19, cex=1.5)\n",
    "\n",
    "# For normally distributed Y\n",
    "\n",
    "ylim <- c(0,7)\n",
    "xlim <- c(0,5)\n",
    "\n",
    "plot(output.norm.ls[1,],output.norm.ls[2,],xlab=\"Beta_1\",ylab=\"Beta_2\",main=\"LS - Normal Errors\",xlim=xlim,ylim=ylim)\n",
    "points(2,4, col=\"red1\", pch=19, cex=1.5)\n",
    "plot(output.norm.lad[1,],output.norm.lad[2,],xlab=\"Beta_1\",ylab=\"Beta_2\",main=\"LAD - Normal Errors\",xlim=xlim,ylim=ylim)\n",
    "points(2, 4, col=\"red1\", pch=19, cex=1.5)"
   ]
  },
  {
   "cell_type": "markdown",
   "metadata": {},
   "source": [
    "## Conclusion\n",
    "\n",
    "As it is evident from the graphs above, we can comment that for t-distributed errors, LAD model seems to be of better quality than LS model as the values of the co-effecients are closer to the true co-effecients.\n",
    "\n",
    "In case of normally distributed errors, least squares model appears to be of a better quality than LAD model as the values of the co-effecients are closer to the true co-effecients, though the quality of the fit is not as good as LAD model for t-distributed errors."
   ]
  },
  {
   "cell_type": "markdown",
   "metadata": {},
   "source": [
    "## Question 2\n",
    "\n",
    "Compare the speed of $\\beta_{LS}$ to $\\beta_{LAD}$ using a package such as benchmark in R or some of the tools [here](https://jakevdp.github.io/PythonDataScienceHandbook/01.07-timing-and-profiling.html) in python. Empirically determine the computational complexity (in $n$) of $\\beta_{LAD}$ and $\\beta_{LS}$ (we know from theoretical analysis that $\\widehat{\\beta}_{LS}$ should be linear in $n$)."
   ]
  },
  {
   "cell_type": "code",
   "execution_count": 24,
   "metadata": {},
   "outputs": [
    {
     "name": "stderr",
     "output_type": "stream",
     "text": [
      "Installing package into 'C:/Users/abhil/OneDrive/Documents/R/win-library/3.4'\n",
      "(as 'lib' is unspecified)\n"
     ]
    },
    {
     "name": "stdout",
     "output_type": "stream",
     "text": [
      "package 'rbenchmark' successfully unpacked and MD5 sums checked\n",
      "\n",
      "The downloaded binary packages are in\n",
      "\tC:\\Users\\abhil\\AppData\\Local\\Temp\\RtmpaciXCN\\downloaded_packages\n"
     ]
    }
   ],
   "source": [
    "install.packages('rbenchmark',repos = \"http://cran.us.r-project.org\")\n",
    "library(rbenchmark)"
   ]
  },
  {
   "cell_type": "code",
   "execution_count": 54,
   "metadata": {},
   "outputs": [],
   "source": [
    "# running replications for determining computational complexities \n",
    "\n",
    "times =  benchmark( \"LS using lm.fit\" = {\n",
    "            for (i in 1:N)\n",
    "                lm.fit(X,Yn[,i])\n",
    "     \n",
    "            },\n",
    "           \n",
    "           \"LAD using l1fit\" = {\n",
    "            for (i in 1:N)\n",
    "                l1fit(X[,-1],Yt[,i])\n",
    "            },replications=c(5,10,20,40,80,160,320,640,1280,2560), columns=c('test', 'elapsed', 'replications'), order='test')"
   ]
  },
  {
   "cell_type": "code",
   "execution_count": 57,
   "metadata": {},
   "outputs": [
    {
     "data": {
      "image/png": "[encoded data removed]",
      "text/plain": [
       "plot without title"
      ]
     },
     "metadata": {},
     "output_type": "display_data"
    }
   ],
   "source": [
    "plot(replications,elapsed,type=\"p\",col=c(\"red\",\"green\")[test], pch=19, \n",
    "     xlab = \"Replications\", ylab = \"Elapsed Time\");\n",
    "legend(x=\"topleft\", legend = levels(test), col=c(\"red\",\"green\"), pch=19);"
   ]
  },
  {
   "cell_type": "code",
   "execution_count": 58,
   "metadata": {},
   "outputs": [
    {
     "data": {
      "text/html": [
       "<table>\n",
       "<thead><tr><th></th><th scope=col>test</th><th scope=col>elapsed</th><th scope=col>replications</th></tr></thead>\n",
       "<tbody>\n",
       "\t<tr><th scope=row>2</th><td>LAD using l1fit</td><td> 0.15          </td><td>   5           </td></tr>\n",
       "\t<tr><th scope=row>4</th><td>LAD using l1fit</td><td> 0.29          </td><td>  10           </td></tr>\n",
       "\t<tr><th scope=row>6</th><td>LAD using l1fit</td><td> 0.61          </td><td>  20           </td></tr>\n",
       "\t<tr><th scope=row>8</th><td>LAD using l1fit</td><td> 1.11          </td><td>  40           </td></tr>\n",
       "\t<tr><th scope=row>10</th><td>LAD using l1fit</td><td> 2.24          </td><td>  80           </td></tr>\n",
       "\t<tr><th scope=row>12</th><td>LAD using l1fit</td><td> 4.55          </td><td> 160           </td></tr>\n",
       "\t<tr><th scope=row>14</th><td>LAD using l1fit</td><td> 9.11          </td><td> 320           </td></tr>\n",
       "\t<tr><th scope=row>16</th><td>LAD using l1fit</td><td>17.99          </td><td> 640           </td></tr>\n",
       "\t<tr><th scope=row>18</th><td>LAD using l1fit</td><td>35.67          </td><td>1280           </td></tr>\n",
       "\t<tr><th scope=row>20</th><td>LAD using l1fit</td><td>71.60          </td><td>2560           </td></tr>\n",
       "\t<tr><th scope=row>1</th><td>LS using lm.fit</td><td> 0.06          </td><td>   5           </td></tr>\n",
       "\t<tr><th scope=row>3</th><td>LS using lm.fit</td><td> 0.08          </td><td>  10           </td></tr>\n",
       "\t<tr><th scope=row>5</th><td>LS using lm.fit</td><td> 0.15          </td><td>  20           </td></tr>\n",
       "\t<tr><th scope=row>7</th><td>LS using lm.fit</td><td> 0.34          </td><td>  40           </td></tr>\n",
       "\t<tr><th scope=row>9</th><td>LS using lm.fit</td><td> 0.58          </td><td>  80           </td></tr>\n",
       "\t<tr><th scope=row>11</th><td>LS using lm.fit</td><td> 1.21          </td><td> 160           </td></tr>\n",
       "\t<tr><th scope=row>13</th><td>LS using lm.fit</td><td> 2.38          </td><td> 320           </td></tr>\n",
       "\t<tr><th scope=row>15</th><td>LS using lm.fit</td><td> 4.75          </td><td> 640           </td></tr>\n",
       "\t<tr><th scope=row>17</th><td>LS using lm.fit</td><td> 9.58          </td><td>1280           </td></tr>\n",
       "\t<tr><th scope=row>19</th><td>LS using lm.fit</td><td>19.07          </td><td>2560           </td></tr>\n",
       "</tbody>\n",
       "</table>\n"
      ],
      "text/latex": [
       "\\begin{tabular}{r|lll}\n",
       "  & test & elapsed & replications\\\\\n",
       "\\hline\n",
       "\t2 & LAD using l1fit &  0.15           &    5           \\\\\n",
       "\t4 & LAD using l1fit &  0.29           &   10           \\\\\n",
       "\t6 & LAD using l1fit &  0.61           &   20           \\\\\n",
       "\t8 & LAD using l1fit &  1.11           &   40           \\\\\n",
       "\t10 & LAD using l1fit &  2.24           &   80           \\\\\n",
       "\t12 & LAD using l1fit &  4.55           &  160           \\\\\n",
       "\t14 & LAD using l1fit &  9.11           &  320           \\\\\n",
       "\t16 & LAD using l1fit & 17.99           &  640           \\\\\n",
       "\t18 & LAD using l1fit & 35.67           & 1280           \\\\\n",
       "\t20 & LAD using l1fit & 71.60           & 2560           \\\\\n",
       "\t1 & LS using lm.fit &  0.06           &    5           \\\\\n",
       "\t3 & LS using lm.fit &  0.08           &   10           \\\\\n",
       "\t5 & LS using lm.fit &  0.15           &   20           \\\\\n",
       "\t7 & LS using lm.fit &  0.34           &   40           \\\\\n",
       "\t9 & LS using lm.fit &  0.58           &   80           \\\\\n",
       "\t11 & LS using lm.fit &  1.21           &  160           \\\\\n",
       "\t13 & LS using lm.fit &  2.38           &  320           \\\\\n",
       "\t15 & LS using lm.fit &  4.75           &  640           \\\\\n",
       "\t17 & LS using lm.fit &  9.58           & 1280           \\\\\n",
       "\t19 & LS using lm.fit & 19.07           & 2560           \\\\\n",
       "\\end{tabular}\n"
      ],
      "text/markdown": [
       "\n",
       "| <!--/--> | test | elapsed | replications | \n",
       "|---|---|---|---|---|---|---|---|---|---|---|---|---|---|---|---|---|---|---|---|\n",
       "| 2 | LAD using l1fit |  0.15           |    5            | \n",
       "| 4 | LAD using l1fit |  0.29           |   10            | \n",
       "| 6 | LAD using l1fit |  0.61           |   20            | \n",
       "| 8 | LAD using l1fit |  1.11           |   40            | \n",
       "| 10 | LAD using l1fit |  2.24           |   80            | \n",
       "| 12 | LAD using l1fit |  4.55           |  160            | \n",
       "| 14 | LAD using l1fit |  9.11           |  320            | \n",
       "| 16 | LAD using l1fit | 17.99           |  640            | \n",
       "| 18 | LAD using l1fit | 35.67           | 1280            | \n",
       "| 20 | LAD using l1fit | 71.60           | 2560            | \n",
       "| 1 | LS using lm.fit |  0.06           |    5            | \n",
       "| 3 | LS using lm.fit |  0.08           |   10            | \n",
       "| 5 | LS using lm.fit |  0.15           |   20            | \n",
       "| 7 | LS using lm.fit |  0.34           |   40            | \n",
       "| 9 | LS using lm.fit |  0.58           |   80            | \n",
       "| 11 | LS using lm.fit |  1.21           |  160            | \n",
       "| 13 | LS using lm.fit |  2.38           |  320            | \n",
       "| 15 | LS using lm.fit |  4.75           |  640            | \n",
       "| 17 | LS using lm.fit |  9.58           | 1280            | \n",
       "| 19 | LS using lm.fit | 19.07           | 2560            | \n",
       "\n",
       "\n"
      ],
      "text/plain": [
       "   test            elapsed replications\n",
       "2  LAD using l1fit  0.15      5        \n",
       "4  LAD using l1fit  0.29     10        \n",
       "6  LAD using l1fit  0.61     20        \n",
       "8  LAD using l1fit  1.11     40        \n",
       "10 LAD using l1fit  2.24     80        \n",
       "12 LAD using l1fit  4.55    160        \n",
       "14 LAD using l1fit  9.11    320        \n",
       "16 LAD using l1fit 17.99    640        \n",
       "18 LAD using l1fit 35.67   1280        \n",
       "20 LAD using l1fit 71.60   2560        \n",
       "1  LS using lm.fit  0.06      5        \n",
       "3  LS using lm.fit  0.08     10        \n",
       "5  LS using lm.fit  0.15     20        \n",
       "7  LS using lm.fit  0.34     40        \n",
       "9  LS using lm.fit  0.58     80        \n",
       "11 LS using lm.fit  1.21    160        \n",
       "13 LS using lm.fit  2.38    320        \n",
       "15 LS using lm.fit  4.75    640        \n",
       "17 LS using lm.fit  9.58   1280        \n",
       "19 LS using lm.fit 19.07   2560        "
      ]
     },
     "metadata": {},
     "output_type": "display_data"
    }
   ],
   "source": [
    "# displaying the experimental results\n",
    "\n",
    "times"
   ]
  },
  {
   "cell_type": "markdown",
   "metadata": {},
   "source": [
    "## Empirical determination of computational complexity\n",
    "\n",
    "According to the experimental results and the graph above, the computational complexities of both LS and LAD estimates\n",
    "of beta seem to be of order (n) as both of the graphs follow a linear trend with the number of replications. \n",
    "\n",
    "However, LAD estimates take more time to compute (approximately 3-4 times) as compared to LS estimates, implying that the constant associated with LAD is thrice or four times that of LS."
   ]
  }
 ],
 "metadata": {
  "kernelspec": {
   "display_name": "R",
   "language": "R",
   "name": "ir"
  },
  "language_info": {
   "codemirror_mode": "r",
   "file_extension": ".r",
   "mimetype": "text/x-r-source",
   "name": "R",
   "pygments_lexer": "r",
   "version": "3.4.2"
  }
 },
 "nbformat": 4,
 "nbformat_minor": 1
}
