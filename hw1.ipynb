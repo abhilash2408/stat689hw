{
 "cells": [
  {
   "cell_type": "markdown",
   "metadata": {},
   "source": [
    "# Tangadpalliwar, Abhilash - Homework 1\n",
    "# UIN: 825009793"
   ]
  },
  {
   "cell_type": "markdown",
   "metadata": {},
   "source": [
    "## Question 1: Inverse Method for exponentials\n",
    "\n",
    "1. Use the inverse method and the language $Unif[0,1]$ generator (runif in R, numpy.random.uniform in python), to generate random deviates from an exponential distribution with mean $\\mu$. $\\mu$ and the number of random deviates should be arguments to your function. This is Example 22.3.1 in Lange. Be aware that there are two standard methods for parameterizing the exponential.\n",
    "2. For some particular $\\mu$ of your choosing, make a histogram of the random deviates and plot the appropriate exponential density curve on top of the histogram to confirm that the generator is working. Verify that the mean and standard deviation are what they should be.\n",
    "3. Compare the speed of your exponential generator to the language generator (rexp in R, numpy.random.exponential in python). Try to make your generator computationally competitive with the built in generator, by avoiding for loops and other slow code."
   ]
  },
  {
   "cell_type": "markdown",
   "metadata": {},
   "source": [
    "Solution:\n",
    "Part 1 - Generating random deviates (n=1000) from an exponential distribution with mean μ = 15"
   ]
  },
  {
   "cell_type": "code",
   "execution_count": 182,
   "metadata": {},
   "outputs": [
    {
     "data": {
      "text/plain": [
       "array([  3.54877948e+00,   3.31659800e+01,   1.58355054e+01,\n",
       "         4.94835366e-01,   2.19983403e+01,   3.89377093e-01,\n",
       "         5.65913259e+00,   1.60280078e+01,   2.71816013e+01,\n",
       "         2.40730426e+01,   2.43037819e+01,   1.05559424e+01,\n",
       "         1.11102056e+00,   7.28655683e+00,   2.89793498e+00,\n",
       "         4.54949487e+00,   2.87625095e+01,   2.51431403e+00,\n",
       "         2.48745804e+01,   3.99022593e+00,   3.68184402e-01,\n",
       "         1.19448551e+01,   3.27401709e+01,   5.78171704e-01,\n",
       "         1.06579755e+01,   4.81661650e+00,   3.22372252e+01,\n",
       "         1.56209165e+01,   5.16808669e-01,   1.10573894e+01,\n",
       "         1.62521031e+01,   1.37292722e+01,   3.89894938e+00,\n",
       "         7.11397564e+01,   1.74426379e+01,   1.98043556e+01,\n",
       "         3.32069445e+01,   1.55716567e+00,   2.12226791e+01,\n",
       "         3.20849150e+00,   1.72258004e+01,   1.86294983e+01,\n",
       "         6.23192901e+00,   5.13320052e+01,   1.37176091e+01,\n",
       "         1.58149466e+00,   1.14811104e+00,   3.23959995e+01,\n",
       "         1.74939427e+00,   2.36864977e-01,   2.13108831e+01,\n",
       "         1.15856322e+01,   2.32543407e+01,   1.45444277e+00,\n",
       "         5.97245567e+00,   4.40838996e+01,   1.92183937e+01,\n",
       "         1.72788345e+00,   3.31196949e+00,   8.49580528e+00,\n",
       "         3.55408514e+00,   2.76205612e+01,   2.18699826e+01,\n",
       "         1.17601293e+00,   2.01937712e+01,   2.78153993e+00,\n",
       "         1.67745208e+01,   7.87976826e+00,   4.27364194e+01,\n",
       "         2.37350996e-01,   3.05004487e+01,   2.44104610e+01,\n",
       "         9.82895790e+00,   8.49101279e+00,   3.44984197e+01,\n",
       "         6.46043956e-01,   4.16569672e+00,   4.69625191e+00,\n",
       "         7.53554945e+00,   8.51752068e+01,   1.05268069e+01,\n",
       "         4.31366925e+00,   2.48056245e+00,   2.84401908e+00,\n",
       "         2.04111860e+00,   3.10367748e+00,   6.82853324e+00,\n",
       "         1.74823198e+01,   1.17648462e+01,   3.00391894e+01,\n",
       "         9.32722299e+00,   1.15790771e+01,   7.82586529e+00,\n",
       "         4.16563574e+00,   6.03683524e+01,   4.27801101e+00,\n",
       "         1.41662173e+01,   1.65473499e+01,   6.30245498e+00,\n",
       "         1.04619794e+01,   5.07453098e+00,   6.71252397e+00,\n",
       "         4.99978149e+01,   1.67852200e+01,   2.39648337e+01,\n",
       "         4.32302366e+00,   9.45833817e+00,   8.34729443e+00,\n",
       "         2.06445481e+01,   7.39954608e+01,   1.34869743e+01,\n",
       "         1.46137422e+01,   9.75963779e+00,   5.42126346e+01,\n",
       "         2.09122016e+00,   1.31948666e+01,   2.75057619e+00,\n",
       "         9.63580950e+00,   1.49592701e+01,   2.55463285e+01,\n",
       "         3.53830906e+00,   1.42209842e+00,   3.54203215e+01,\n",
       "         3.51713878e+00,   3.60978585e+01,   1.99703916e+00,\n",
       "         1.64151976e+00,   1.85172110e+01,   8.07815924e+00,\n",
       "         1.56256294e+01,   3.10455318e+01,   1.55900990e+01,\n",
       "         1.55126296e+01,   2.06991932e+01,   2.21814807e+00,\n",
       "         1.66473787e+01,   3.62045777e+00,   1.92298005e+01,\n",
       "         1.88031607e+01,   1.61036145e+01,   1.93814402e+01,\n",
       "         2.29096579e+00,   1.16403871e+01,   3.22770298e+01,\n",
       "         2.44059811e+00,   2.03828049e+01,   1.79078763e+01,\n",
       "         1.07845240e+01,   4.80984577e+01,   2.06438263e+00,\n",
       "         1.88361539e+00,   1.09541560e+01,   3.89657611e+01,\n",
       "         2.50064405e+00,   1.25834071e+01,   5.54930259e+00,\n",
       "         6.40614195e-01,   2.99381567e+01,   1.00765745e+01,\n",
       "         3.67834376e+00,   1.41765709e+01,   2.61884797e+00,\n",
       "         1.31086215e+01,   1.65836252e+01,   1.85351608e+01,\n",
       "         1.98742561e+01,   4.68389756e-01,   3.86306058e+01,\n",
       "         1.42104965e+01,   3.28013747e+00,   2.45132111e+01,\n",
       "         1.12182040e+01,   1.73618322e+01,   1.68774006e+01,\n",
       "         1.10771567e+01,   1.00971593e+01,   9.39759056e+00,\n",
       "         1.89065887e+01,   2.46019380e+01,   1.62677938e+01,\n",
       "         6.56559647e+00,   1.25737875e+01,   2.17194747e+00,\n",
       "         3.10292161e+01,   3.06839496e+01,   5.79442019e+00,\n",
       "         8.99820390e+00,   2.24204037e+01,   6.74139428e+01,\n",
       "         8.65340266e-01,   2.87369575e+01,   3.26077402e+01,\n",
       "         4.25052588e+00,   4.67884087e+00,   1.35253002e+01,\n",
       "         1.05610210e+01,   2.26462123e+00,   3.24943964e+00,\n",
       "         2.37664381e+01,   1.41238716e+02,   3.65771070e+00,\n",
       "         2.19806263e+01,   2.33573415e+01,   9.20205001e+00,\n",
       "         6.69404591e-01,   9.13623177e-01,   1.94710031e+01,\n",
       "         2.31820658e+01,   2.45565842e+00,   8.45140907e+00,\n",
       "         4.69407969e+00,   1.83595084e+00,   7.35576224e+00,\n",
       "         1.57180596e+01,   1.44054902e+01,   5.19701476e+00,\n",
       "         5.78441446e+00,   2.90838453e+01,   1.98253904e+01,\n",
       "         1.63539812e+00,   2.33537318e+01,   2.66454475e+01,\n",
       "         1.70927985e+01,   6.56100172e+00,   1.01590213e+01,\n",
       "         8.08945942e+00,   5.20523660e+00,   2.13546398e+01,\n",
       "         2.33723579e+00,   2.16516415e+01,   2.49255739e+00,\n",
       "         1.76991475e+01,   4.99875303e+01,   9.91149246e+00,\n",
       "         1.09977125e+00,   6.72618614e+01,   5.56177751e+00,\n",
       "         1.19440751e+01,   6.09677810e-01,   2.04824038e+00,\n",
       "         4.63038669e+01,   3.24071524e+01,   4.73940203e+00,\n",
       "         2.60676116e+01,   3.71015232e+01,   8.34393947e+00,\n",
       "         8.65269898e+00,   9.06865872e+00,   2.36950446e+00,\n",
       "         3.23735657e+01,   2.38226293e+01,   2.17089121e+01,\n",
       "         1.23087812e+01,   8.25936554e+00,   1.38922601e+00,\n",
       "         6.51773211e-01,   3.21700748e+00,   3.34988823e+00,\n",
       "         7.93954450e+00,   6.58302891e+00,   3.47211054e+00,\n",
       "         2.96842681e+00,   1.30129322e+01,   3.56711825e+01,\n",
       "         4.69285853e+00,   2.96877619e+00,   6.51708517e+00,\n",
       "         1.10600093e+01,   1.65822757e+00,   4.86647503e+01,\n",
       "         3.32048352e+00,   2.15430148e+01,   1.66906828e+01,\n",
       "         2.34616633e+01,   1.11981474e+01,   1.66341085e+01,\n",
       "         1.38840956e+01,   1.09713574e+01,   3.14532338e+00,\n",
       "         3.87054173e+00,   2.37882336e+00,   9.84747187e+00,\n",
       "         3.97006525e+01,   2.10442964e+01,   1.62009622e+00,\n",
       "         4.12406490e-01,   1.73565607e+01,   5.71415239e+00,\n",
       "         1.36141040e+01,   1.42126314e+00,   1.49095143e+01,\n",
       "         2.45737253e+01,   1.21380076e+01,   4.83552826e+00,\n",
       "         1.29297631e+01,   6.17955093e+00,   3.65639297e+01,\n",
       "         1.75114355e+01,   3.30246097e+01,   2.17311407e+00,\n",
       "         1.07781860e+01,   1.68609835e+01,   4.08646774e+01,\n",
       "         3.85425494e+00,   2.59532403e+00,   3.58946796e+00,\n",
       "         1.29788163e+01,   3.45349397e+01,   1.50673233e+01,\n",
       "         3.66833967e+00,   3.54862909e+00,   3.81940124e+00,\n",
       "         1.34970187e+01,   3.11077886e+01,   5.47315555e+01,\n",
       "         2.40256049e+01,   7.44237993e+00,   1.59316704e+01,\n",
       "         2.83812186e+01,   2.41310814e+00,   1.98552501e+01,\n",
       "         8.33540647e+00,   9.37985868e+00,   6.19420579e+00,\n",
       "         3.08783800e+00,   5.72705983e+01,   7.47817496e-01,\n",
       "         2.73959350e+01,   4.17259729e+01,   6.58641768e+00,\n",
       "         2.61547725e+01,   8.98810325e+00,   8.60410644e+00,\n",
       "         1.01251717e+01,   1.43231336e+01,   4.44042931e+00,\n",
       "         2.93543881e+01,   9.80017039e+00,   1.51468102e+01,\n",
       "         2.18431428e+01,   5.09820466e+00,   2.66930740e-01,\n",
       "         8.08462696e+00,   1.53775531e+01,   1.49752200e+01,\n",
       "         1.50697401e+01,   8.81824549e+00,   2.37766543e+01,\n",
       "         4.20061962e+01,   1.36912481e+01,   2.98490625e+01,\n",
       "         3.69785309e+01,   1.73501029e+01,   4.21682958e+00,\n",
       "         2.15773991e+00,   3.61191292e+01,   1.65817190e+00,\n",
       "         2.63384560e-01,   3.14146568e+01,   5.93128158e+01,\n",
       "         1.61392617e+01,   5.43839927e+00,   2.15427972e+00,\n",
       "         8.70745992e+00,   9.01387832e+00,   2.64229388e+01,\n",
       "         1.57590155e+01,   2.96663767e+01,   2.14960876e+01,\n",
       "         4.01071343e+00,   3.38479592e+01,   5.72683730e+01,\n",
       "         2.40242417e+01,   5.62956757e+00,   1.83021626e+00,\n",
       "         1.23365930e-01,   1.36452917e+01,   2.58838788e+01,\n",
       "         5.88581121e+00,   1.64575154e+01,   6.04228264e+01,\n",
       "         2.21451731e+00,   2.12213989e-01,   4.63164004e+01,\n",
       "         4.35697892e+00,   2.18232543e+00,   4.26237071e+00,\n",
       "         9.72767145e+00,   4.31134915e+00,   1.04968350e+01,\n",
       "         3.79933809e+00,   1.90371335e+01,   2.57915238e+01,\n",
       "         1.63697946e+01,   6.18639786e+00,   1.82514558e+01,\n",
       "         2.52845121e+01,   6.56269178e+00,   2.77495604e+01,\n",
       "         1.28338402e+01,   6.98711118e+00,   4.30982004e+00,\n",
       "         7.14030773e+00,   7.61607457e+00,   6.66285208e+00,\n",
       "         3.20142091e+01,   3.71086302e+00,   1.65245808e+01,\n",
       "         2.85479467e+01,   2.30046933e+01,   1.26505846e+01,\n",
       "         4.97460779e+00,   1.10297596e+01,   2.81976286e+01,\n",
       "         9.57009557e-01,   2.70875052e+01,   1.93025482e+01,\n",
       "         1.37729862e+01,   4.79993206e+00,   3.89152665e+01,\n",
       "         1.35481251e+01,   4.45399778e+00,   3.10912646e+01,\n",
       "         2.92587740e+01,   4.29370096e+01,   3.85843217e+01,\n",
       "         1.94883485e-02,   2.28878304e+01,   2.58823689e+01,\n",
       "         1.05397857e+01,   8.64615648e+00,   4.52743633e+01,\n",
       "         2.85000521e+00,   4.73405749e+01,   7.53512886e-01,\n",
       "         9.03955316e+00,   6.33112899e+00,   2.17084054e+01,\n",
       "         1.54385891e+01,   8.82211448e+00,   7.84543728e+00,\n",
       "         6.02481802e+00,   3.71774098e+01,   1.55585279e+00,\n",
       "         3.11141454e+01,   2.09944788e+00,   5.80372361e+00,\n",
       "         4.07032487e+01,   3.25345373e-01,   1.04742202e+01,\n",
       "         5.47721494e+00,   7.58308677e+00,   1.69363104e+01,\n",
       "         1.26578931e+01,   5.70150915e+01,   4.10952636e+01,\n",
       "         3.98002944e+00,   1.03036177e+00,   2.90732266e+00,\n",
       "         3.45360722e+01,   1.73504446e+01,   3.87277953e+00,\n",
       "         3.26525992e-01,   2.03402947e+00,   2.50751414e+01,\n",
       "         2.99512399e+01,   3.72011307e+01,   9.15903461e-02,\n",
       "         2.36888302e+01,   1.16681001e+00,   3.66642301e+01,\n",
       "         2.02833064e+01,   3.15924775e+01,   1.87803667e+01,\n",
       "         1.26194242e+01,   3.05758425e+00,   2.43574338e+00,\n",
       "         1.71539985e+01,   9.17539126e+01,   9.64048134e+00,\n",
       "         1.51658521e+01,   1.15853042e+00,   1.02943162e+01,\n",
       "         2.36379759e+01,   5.26396966e+01,   7.02367487e+00,\n",
       "         1.19901020e+01,   1.39824581e+01,   1.28575237e+01,\n",
       "         1.20697419e+01,   9.51570612e+00,   1.65762307e+01,\n",
       "         1.61981805e+01,   1.40246860e+00,   2.20911314e+00,\n",
       "         2.94684676e+00,   5.75942185e+00,   3.09386009e+01,\n",
       "         2.80685990e+00,   2.27452048e+01,   2.00657463e+00,\n",
       "         1.90616956e+01,   1.59407908e+00,   1.41759974e+01,\n",
       "         8.26665888e+01,   3.49945558e+01,   2.13770033e+01,\n",
       "         5.86401032e+00,   1.75146403e+01,   9.95997698e+00,\n",
       "         2.78744183e+00,   2.05727744e+00,   1.40025565e+01,\n",
       "         1.96574128e+00,   7.76453690e+00,   2.37387808e+01,\n",
       "         1.89631139e+00,   2.56636855e+00,   4.56586058e+01,\n",
       "         2.68820389e-01,   6.88433240e-01,   2.54614062e+01,\n",
       "         2.93896089e+01,   4.20122800e+00,   1.82402817e+01,\n",
       "         1.38632260e+00,   9.54807794e+01,   6.41313660e+00,\n",
       "         4.45901005e+00,   4.50812167e+00,   2.85528984e+01,\n",
       "         1.51835086e+01,   7.42060619e+00,   5.96786529e+00,\n",
       "         1.18010066e-02,   1.82855079e+01,   2.15052616e+01,\n",
       "         3.14276477e+01,   1.07131055e+01,   5.20660150e+01,\n",
       "         2.69934760e+00,   1.53610510e+01,   1.71488770e+01,\n",
       "         2.06831367e+01,   3.73361225e+01,   1.63683419e+01,\n",
       "         7.37643998e+00,   2.28458777e+01,   2.14934966e+01,\n",
       "         2.99636667e+01,   1.14593030e+01,   2.95123559e+00,\n",
       "         3.17311744e+01,   1.96143659e+01,   1.57386459e-01,\n",
       "         4.76195586e-01,   1.11054636e-01,   9.49458796e-01,\n",
       "         8.62587093e+00,   3.22392177e+01,   3.65160577e+01,\n",
       "         3.39624516e+00,   1.97855443e+01,   1.54892154e+01,\n",
       "         8.96809828e+00,   6.05667719e+00,   1.85438951e+00,\n",
       "         2.74575670e+00,   9.76382091e+00,   4.04523521e+00,\n",
       "         1.01968185e+01,   1.29500846e+00,   2.83957454e+00,\n",
       "         2.77469073e+00,   5.78942822e+00,   2.91305888e+01,\n",
       "         1.01278370e+01,   1.68562055e+01,   4.84676877e+00,\n",
       "         8.53266516e+00,   5.79953915e+01,   7.62406222e+00,\n",
       "         1.15598802e+01,   8.21613538e+00,   1.36145894e+01,\n",
       "         1.36439168e+01,   8.69808712e+00,   1.93513738e+01,\n",
       "         1.45099488e+01,   7.86828185e+01,   2.39193575e+00,\n",
       "         1.97220237e+01,   6.66473274e+00,   7.51753090e+00,\n",
       "         2.45690237e+01,   5.29652243e+01,   1.20508262e+01,\n",
       "         1.40339575e+01,   3.00504067e+00,   1.35186870e+01,\n",
       "         3.44771881e+01,   7.29917368e+00,   3.46998295e+01,\n",
       "         2.38312832e-01,   2.37848297e+00,   7.81484760e+00,\n",
       "         6.96827436e+00,   1.33528478e+01,   3.86152720e+01,\n",
       "         4.07982643e+00,   1.14487256e+01,   1.87942279e+01,\n",
       "         7.51821124e+00,   1.18036631e+01,   2.99957640e+00,\n",
       "         6.76814521e+00,   2.53922571e+01,   4.91689966e+00,\n",
       "         6.92299385e+01,   1.52108108e+01,   5.10561173e-01,\n",
       "         1.21519306e+01,   1.20451036e+01,   1.72204428e+01,\n",
       "         9.95997643e-01,   3.72119066e+01,   2.31172400e+01,\n",
       "         1.80289772e+01,   3.85478644e+00,   1.08429245e+01,\n",
       "         4.97262573e+01,   1.26740809e+01,   2.60624490e+01,\n",
       "         2.47124484e+00,   2.23318327e+01,   2.63245537e+00,\n",
       "         1.25224888e+00,   1.85278211e+01,   1.10822289e+01,\n",
       "         2.03543267e+01,   3.34828676e+01,   2.93044900e+01,\n",
       "         1.42342342e+01,   5.51974703e+01,   4.88037059e+00,\n",
       "         3.00937095e+01,   4.58753626e+00,   3.04021400e+01,\n",
       "         9.59332917e+00,   6.63960359e-01,   4.04645042e+01,\n",
       "         2.86389480e+00,   1.67598504e+00,   2.28830789e+01,\n",
       "         5.36162052e+01,   9.83762458e+00,   7.11425984e+00,\n",
       "         9.58939744e+00,   2.64043865e+00,   2.64316762e+01,\n",
       "         3.88361238e+00,   1.58364358e+00,   1.21837207e+01,\n",
       "         5.45248788e+01,   1.81437591e+00,   1.76371316e+01,\n",
       "         3.12506358e+00,   2.61169108e+01,   9.39665658e+00,\n",
       "         1.35188892e+01,   5.52481630e-01,   3.29645503e+00,\n",
       "         9.72049252e+00,   2.77204837e+01,   2.25254826e+01,\n",
       "         4.59933832e+00,   2.23100116e+00,   1.31876393e+01,\n",
       "         1.42059943e+00,   2.81405555e+01,   1.25417294e+01,\n",
       "         3.32751366e+00,   1.63468721e+01,   8.63569251e+00,\n",
       "         7.76748678e+00,   5.21724934e+01,   3.81556983e+00,\n",
       "         5.21182568e+00,   6.09002619e+00,   2.37055611e+01,\n",
       "         1.27601869e+01,   1.50963926e+01,   1.28845821e+01,\n",
       "         1.00018025e+01,   2.49052951e+01,   4.13443796e+00,\n",
       "         2.46146813e+00,   2.06369313e+01,   2.05789840e+00,\n",
       "         3.39106545e+01,   5.36006017e+01,   1.25985201e+01,\n",
       "         4.17040518e+01,   4.47977102e+00,   3.17980039e+00,\n",
       "         4.24651171e+01,   7.77562048e+00,   2.33638840e+00,\n",
       "         1.01286226e+00,   3.05955385e+01,   2.81249971e+01,\n",
       "         4.53838106e-01,   1.80721319e+01,   3.53725075e+00,\n",
       "         6.20380986e-01,   5.41517033e+00,   6.44987964e+00,\n",
       "         3.39033712e+01,   1.22858953e+01,   3.82925248e-01,\n",
       "         1.34434797e+01,   2.80118608e+01,   1.17998816e+01,\n",
       "         2.63133207e+01,   1.48365368e+00,   5.04920642e+00,\n",
       "         5.42354858e+00,   1.03635084e+01,   5.22523680e+00,\n",
       "         4.91069487e-01,   3.33970306e-01,   6.70364902e+00,\n",
       "         5.22218250e+00,   4.72841796e+00,   1.36259470e+01,\n",
       "         1.06192778e+01,   6.32359010e+00,   9.56461034e+00,\n",
       "         2.45940479e+01,   8.38767336e+00,   8.19437959e+00,\n",
       "         5.95435147e-01,   6.74778027e-01,   1.77664481e+01,\n",
       "         7.04117773e+00,   1.20874874e+01,   5.92031957e+00,\n",
       "         2.75610586e+01,   3.17505611e+00,   1.90650207e+01,\n",
       "         1.66268549e+00,   4.05165631e+00,   5.36287370e+00,\n",
       "         1.03299875e+01,   3.65877488e+00,   4.08237769e+00,\n",
       "         1.58180019e-01,   5.77684781e+00,   1.26990221e+00,\n",
       "         6.55097665e+01,   8.70669424e+00,   9.27493701e+00,\n",
       "         3.04860507e+01,   5.37703624e+00,   1.35782046e+00,\n",
       "         1.26578613e+01,   1.80529846e+01,   3.74667555e+00,\n",
       "         1.69557393e+01,   4.18666097e+00,   3.42068495e+01,\n",
       "         4.32156126e+01,   2.64234740e+01,   6.38829311e-01,\n",
       "         6.92638652e+00,   2.39209651e+00,   5.96695655e+00,\n",
       "         1.64462871e+01,   7.56393162e-01,   7.94989468e+00,\n",
       "         1.09787374e+01,   2.22209926e+00,   2.87445913e+01,\n",
       "         7.49390232e+00,   5.46709873e+01,   1.09393291e+01,\n",
       "         3.77100664e+01,   3.26329879e+00,   2.03817156e+01,\n",
       "         1.42779798e+00,   2.05344731e+00,   7.64725653e+00,\n",
       "         4.07547076e+00,   2.97517169e+01,   3.07742119e+00,\n",
       "         1.31533549e+01,   1.53556726e+01,   8.71903098e+00,\n",
       "         4.47012357e+01,   9.87687478e+00,   3.36478361e+00,\n",
       "         3.69896654e+01,   2.13978241e+01,   4.32622404e+01,\n",
       "         1.92312075e+00,   2.75131478e+01,   9.76864645e+00,\n",
       "         6.14718797e+00,   3.44428689e-01,   1.48971801e+00,\n",
       "         1.14535344e+01,   3.36587215e+01,   1.37490762e+01,\n",
       "         5.83692649e+00,   1.13374332e-01,   7.70853182e+00,\n",
       "         2.22349955e+01,   8.72126671e+00,   3.44116217e+00,\n",
       "         4.78044987e-02,   4.49617079e+01,   1.49777804e+01,\n",
       "         3.44641363e+00,   3.02921724e+01,   1.71723200e+01,\n",
       "         2.11642898e+01,   5.26950852e+00,   1.16930253e+01,\n",
       "         2.43714936e+01,   1.24116543e+00,   6.35438826e-01,\n",
       "         1.86865040e+01,   1.21412295e+00,   5.70267959e+00,\n",
       "         1.18187939e+00,   1.02839388e+01,   1.05537835e+01,\n",
       "         1.37201709e+01,   1.72922172e+01,   7.46895732e+01,\n",
       "         2.44082976e+01,   4.42305158e+00,   5.08224758e+00,\n",
       "         2.92026593e+01,   1.79306789e+01,   4.64933254e+00,\n",
       "         6.04313939e+00,   1.76502725e+00,   2.48621336e+01,\n",
       "         2.44567356e+01,   2.00956280e+00,   1.84978073e+01,\n",
       "         9.00477221e+00,   5.56259811e+00,   3.17832109e+01,\n",
       "         7.37568321e+00,   1.23770293e+01,   1.53521754e+00,\n",
       "         2.56197229e+01,   1.87161319e+00,   2.48987836e+01,\n",
       "         2.85647452e+01,   9.31382382e-01,   7.26179403e+00,\n",
       "         4.05651757e+00,   7.65752871e+00,   7.86452955e+00,\n",
       "         4.89290297e+01,   1.01661374e+01,   3.16997363e+00,\n",
       "         2.39473409e+00,   7.06192972e+00,   3.43471139e+01,\n",
       "         1.45266812e+01,   9.30878957e+00,   1.14409826e+01,\n",
       "         2.54838596e+00,   1.48551422e+00,   1.60525973e+00,\n",
       "         3.16619226e+01,   2.08814659e+01,   9.60485002e+00,\n",
       "         1.36163826e+00,   2.28325509e+01,   5.05091235e+00,\n",
       "         2.50853898e+00,   1.42922216e+01,   1.45227268e+01,\n",
       "         7.10130938e+00,   3.01674911e+01,   2.93589780e+01,\n",
       "         5.32887760e+00,   5.91217184e+01,   1.98976787e+00,\n",
       "         2.06440056e-01,   6.75610834e+01,   2.23825496e+00,\n",
       "         7.49959025e+00,   1.26489039e+01,   2.92317257e+00,\n",
       "         3.80477953e+01,   5.02975799e-01,   1.15183134e+01,\n",
       "         3.86262763e+01,   1.23178717e+00,   2.15369123e+01,\n",
       "         2.40238415e+01,   1.77326795e+01,   2.91676426e+00,\n",
       "         1.26428638e+01,   9.59166167e+00,   1.96977021e+01,\n",
       "         3.38102442e+00,   3.10842918e+01,   2.25577259e+01,\n",
       "         3.50802316e+01,   3.48034446e+01,   1.95042212e-01,\n",
       "         2.63735731e+01,   9.24623518e-01,   4.16240142e+00,\n",
       "         7.70305504e+00,   7.92535582e+00,   4.43809376e+00,\n",
       "         7.02954125e+01,   2.05274039e+01,   1.10381635e+01,\n",
       "         4.95668644e+00,   1.07733350e+01,   5.92086601e+00,\n",
       "         4.15875344e+01,   2.47017034e+00,   6.31696334e+00,\n",
       "         7.81336309e+00,   6.11696064e+00,   3.48614033e+00,\n",
       "         4.02166479e+01,   9.01445377e-01,   1.63976051e+01,\n",
       "         2.00515793e+01,   1.75572990e+01,   1.25252028e+01,\n",
       "         1.22186185e+01,   2.75114227e+01,   3.25741495e+00,\n",
       "         2.66799887e+00,   1.18647123e+00,   1.36216168e+00,\n",
       "         9.23983652e+00,   5.90894870e+00,   3.69100806e+00,\n",
       "         8.21102740e+00,   1.43536408e+01,   1.51038411e+01,\n",
       "         4.50166992e+00,   1.42274577e+01,   3.94154264e+00,\n",
       "         5.33473475e+00,   4.74251982e-01,   5.93635345e-01,\n",
       "         7.77230377e+00,   9.30185827e+00,   6.06139319e+01,\n",
       "         3.46404655e+01,   1.44023008e+00,   1.69226328e+00,\n",
       "         1.28823322e+01,   1.24048989e+01,   3.14678684e+01,\n",
       "         7.92483146e+00,   1.19387012e-01,   3.43449323e+00,\n",
       "         7.95849781e+00,   9.64160724e+00,   2.21555209e+01,\n",
       "         2.02078714e+01,   4.99042608e+00,   7.89811216e+00,\n",
       "         4.52401278e-01,   1.09051855e+01,   4.37973423e+00,\n",
       "         2.59569664e+00,   1.23247155e+01,   3.66268563e-02,\n",
       "         1.55689503e+01,   3.62797294e+00,   2.56463093e+01,\n",
       "         5.88084263e+00,   2.36732048e+00,   4.76771729e+00,\n",
       "         2.26093362e+01,   1.47167473e+01,   8.60448663e+00,\n",
       "         9.75429539e+00,   1.21587302e+01,   6.24456751e+00,\n",
       "         1.72594767e+00,   2.15412045e+01,   3.54533534e+01,\n",
       "         9.90613996e+00])"
      ]
     },
     "execution_count": 182,
     "metadata": {},
     "output_type": "execute_result"
    }
   ],
   "source": [
    "import numpy as np\n",
    "%matplotlib inline\n",
    "import matplotlib.pyplot as plot1\n",
    "plot1.style.use('seaborn-white')\n",
    "n = 1000\n",
    "mu = 15\n",
    "U = np.random.uniform(size=n)\n",
    "X = -mu*np.log(1-U)\n",
    "X"
   ]
  },
  {
   "cell_type": "markdown",
   "metadata": {},
   "source": [
    "Part 2 -  Plotting the histogram as well as appropriate exponential density curve on top of the histogram"
   ]
  },
  {
   "cell_type": "code",
   "execution_count": 187,
   "metadata": {
    "scrolled": true
   },
   "outputs": [
    {
     "data": {
      "image/png": "[encoded data removed]",
      "text/plain": [
       "<matplotlib.figure.Figure at 0x1a5d435cfd0>"
      ]
     },
     "metadata": {},
     "output_type": "display_data"
    }
   ],
   "source": [
    "from scipy.stats import expon\n",
    "kwargs = dict(histtype='stepfilled', alpha=0.3, normed=True, bins=50)\n",
    "x = np.linspace(0.001,140, 100)\n",
    "plot.plot(x, expon.pdf(x,scale =15),'r-', lw=5, alpha=0.6, label='exponential pdf')\n",
    "plot.ylim(0,0.07)\n",
    "plot.hist(X, **kwargs);"
   ]
  },
  {
   "cell_type": "markdown",
   "metadata": {},
   "source": [
    "Verifying mean and standard deviation of the generated exponential distribution X"
   ]
  },
  {
   "cell_type": "code",
   "execution_count": 183,
   "metadata": {},
   "outputs": [
    {
     "data": {
      "text/plain": [
       "14.982756388950779"
      ]
     },
     "execution_count": 183,
     "metadata": {},
     "output_type": "execute_result"
    }
   ],
   "source": [
    "np.mean(X)"
   ]
  },
  {
   "cell_type": "code",
   "execution_count": 184,
   "metadata": {},
   "outputs": [
    {
     "data": {
      "text/plain": [
       "15.216685799224276"
      ]
     },
     "execution_count": 184,
     "metadata": {},
     "output_type": "execute_result"
    }
   ],
   "source": [
    "np.std(X)"
   ]
  },
  {
   "cell_type": "markdown",
   "metadata": {},
   "source": [
    "Thus, we can see that the mean and the standard deviation of the generated exponential distribution X are very close to 15 which we had initially taken as μ to generate these deviates."
   ]
  },
  {
   "cell_type": "markdown",
   "metadata": {},
   "source": [
    "Part 3 - Comparing the speed of our exponential generator to the random generator"
   ]
  },
  {
   "cell_type": "code",
   "execution_count": 188,
   "metadata": {},
   "outputs": [
    {
     "data": {
      "text/plain": [
       "0.0003077284395658353"
      ]
     },
     "execution_count": 188,
     "metadata": {},
     "output_type": "execute_result"
    }
   ],
   "source": [
    "# obtaining speed of our exponential generator\n",
    "import time\n",
    "start_time1 = time.clock()\n",
    "n = 1000\n",
    "mu = 15\n",
    "U = np.random.uniform(size=n)\n",
    "X = -mu*np.log(1-U)\n",
    "elapsed_time1 = (time.clock() - start_time1)\n",
    "elapsed_time1"
   ]
  },
  {
   "cell_type": "code",
   "execution_count": 189,
   "metadata": {},
   "outputs": [
    {
     "data": {
      "text/plain": [
       "0.0002473154941071698"
      ]
     },
     "execution_count": 189,
     "metadata": {},
     "output_type": "execute_result"
    }
   ],
   "source": [
    "# obtaining speed of language generator (random generator)\n",
    "start_time2 = time.clock()\n",
    "np.random.exponential(scale=15, size=1000)\n",
    "elapsed_time2 = (time.clock() - start_time2)\n",
    "elapsed_time2"
   ]
  },
  {
   "cell_type": "markdown",
   "metadata": {},
   "source": [
    "Thus we can see that our generator takes almost similar time as the language generator, albeit a bit more than language generator. Thus, they are comparable."
   ]
  },
  {
   "cell_type": "markdown",
   "metadata": {},
   "source": [
    "## Question 2: Simulation Study of the LLN and CLT\n",
    "\n",
    "1. Create a $n \\times p$ matrix $X$ with $n=100$ and $p=1000$ and each entry $1$ with probability $0.5$ and $0$ with probability $0.5$. If you would like some intuition for this simulation consider this: Suppose 1/2 of all voters support proposition A. We conduct 100 surveys (number of rows of X) each with 1000 voters (number of columns = sample size of poll). A voter responds 1 if they support A, 0 if they do not support A. Note on Confusing Notation: The sample size of each poll is $p$. Usually $n$ is sample size.\n",
    "2. Compute the running mean of each row of $X$ to produce a new matrix $Y$ which is again $100 \\times 1000$. Specifically the row $i$, column $j$ entry of $Y$ is\n",
    "$$Y_{ij} = \\frac{1}{j} \\sum_{k=1}^j X_{ik}$$\n",
    "Try to avoid using nested for loops.\n",
    "3. Plot each row of $Y$ (on the y--axis) against the column number (on the x--axis). This will result in 1 plot with 100 lines. Then make three histograms 1) first column of $Y$, 2) 10th column of $Y$, and 3) the last column of $Y$. Your images should roughly look like what is below. (If you want to make the results clearer and prettier, draw all histograms or density estimators on top of each other with different colors, see lecture notes from the first class [here](https://longjp.github.io/statcomp/lectures/00intro.ipynb) for how to do this with ggplot in R or [here](https://jakevdp.github.io/PythonDataScienceHandbook/04.05-histograms-and-binnings.html) for code in python from VanderPlas) What is this simulation showing?"
   ]
  },
  {
   "cell_type": "markdown",
   "metadata": {
    "collapsed": true
   },
   "source": [
    "Solution\n",
    "Part 1 - Creating the n x p matrix X"
   ]
  },
  {
   "cell_type": "code",
   "execution_count": 141,
   "metadata": {},
   "outputs": [
    {
     "data": {
      "text/plain": [
       "array([[ 0.,  1.,  1., ...,  0.,  0.,  0.],\n",
       "       [ 0.,  1.,  1., ...,  1.,  1.,  0.],\n",
       "       [ 0.,  0.,  0., ...,  1.,  0.,  0.],\n",
       "       ..., \n",
       "       [ 0.,  1.,  1., ...,  0.,  1.,  1.],\n",
       "       [ 0.,  1.,  0., ...,  1.,  1.,  0.],\n",
       "       [ 1.,  0.,  1., ...,  1.,  0.,  1.]])"
      ]
     },
     "execution_count": 141,
     "metadata": {},
     "output_type": "execute_result"
    }
   ],
   "source": [
    "X = np.random.choice(a=[0.0,1.0], size=(100, 1000), p=[0.5, 0.5])\n",
    "X"
   ]
  },
  {
   "cell_type": "markdown",
   "metadata": {},
   "source": [
    "Part 2 - Creating a Y matrix with all the initial elements to be 0"
   ]
  },
  {
   "cell_type": "code",
   "execution_count": 142,
   "metadata": {},
   "outputs": [
    {
     "data": {
      "text/plain": [
       "array([[ 0.,  0.,  0., ...,  0.,  0.,  0.],\n",
       "       [ 0.,  0.,  0., ...,  0.,  0.,  0.],\n",
       "       [ 0.,  0.,  0., ...,  0.,  0.,  0.],\n",
       "       ..., \n",
       "       [ 0.,  0.,  0., ...,  0.,  0.,  0.],\n",
       "       [ 0.,  0.,  0., ...,  0.,  0.,  0.],\n",
       "       [ 0.,  0.,  0., ...,  0.,  0.,  0.]])"
      ]
     },
     "execution_count": 142,
     "metadata": {},
     "output_type": "execute_result"
    }
   ],
   "source": [
    "Y = np.random.choice(a=[0.0,1.0], size=(100, 1000), p=[1, 0])\n",
    "Y"
   ]
  },
  {
   "cell_type": "markdown",
   "metadata": {},
   "source": [
    "Computing the elements of Y matrix as per the given rule"
   ]
  },
  {
   "cell_type": "code",
   "execution_count": 143,
   "metadata": {},
   "outputs": [
    {
     "data": {
      "text/plain": [
       "array([[ 0.        ,  0.5       ,  0.66666667, ...,  0.49298597,\n",
       "         0.49249249,  0.492     ],\n",
       "       [ 0.        ,  0.5       ,  0.66666667, ...,  0.49699399,\n",
       "         0.4974975 ,  0.497     ],\n",
       "       [ 0.        ,  0.        ,  0.        , ...,  0.51202405,\n",
       "         0.51151151,  0.511     ],\n",
       "       ..., \n",
       "       [ 0.        ,  0.5       ,  0.66666667, ...,  0.50701403,\n",
       "         0.50750751,  0.508     ],\n",
       "       [ 0.        ,  0.5       ,  0.33333333, ...,  0.48396794,\n",
       "         0.48448448,  0.484     ],\n",
       "       [ 1.        ,  0.5       ,  0.66666667, ...,  0.50501002,\n",
       "         0.5045045 ,  0.505     ]])"
      ]
     },
     "execution_count": 143,
     "metadata": {},
     "output_type": "execute_result"
    }
   ],
   "source": [
    "for i in range(0,100):\n",
    "    for j in range(0,1000):\n",
    "        Y[i,j] = np.sum(X[i,0:j+1])/(j+1)\n",
    "Y"
   ]
  },
  {
   "cell_type": "markdown",
   "metadata": {},
   "source": [
    "Part 3 - Plotting each row of Y against its column number"
   ]
  },
  {
   "cell_type": "code",
   "execution_count": 144,
   "metadata": {},
   "outputs": [
    {
     "data": {
      "image/png": "[encoded data removed]",
      "text/plain": [
       "<matplotlib.figure.Figure at 0x1a5d5afd1d0>"
      ]
     },
     "metadata": {},
     "output_type": "display_data"
    }
   ],
   "source": [
    "import matplotlib.pyplot as plot2\n",
    "\n",
    "plot2.xlabel(\"Column Number\")\n",
    "plot2.ylabel(\"Row Element\")\n",
    "T = range(Y.shape[1])\n",
    "for i in range(Y.shape[0]):\n",
    "    plot2.plot(T, Y[i,:])\n",
    "plot2.show()"
   ]
  },
  {
   "cell_type": "markdown",
   "metadata": {},
   "source": [
    "Plotting histograms of 1st, 10th and 1000th column of Y respectively"
   ]
  },
  {
   "cell_type": "code",
   "execution_count": 145,
   "metadata": {
    "scrolled": true
   },
   "outputs": [
    {
     "data": {
      "image/png": "[encoded data removed]",
      "text/plain": [
       "<matplotlib.figure.Figure at 0x1a5cfc85f28>"
      ]
     },
     "metadata": {},
     "output_type": "display_data"
    }
   ],
   "source": [
    "plot2.hist(Y[:,0]);\n",
    "plot2.hist(Y[:,9]);\n",
    "plot2.hist(Y[:,999]);"
   ]
  },
  {
   "cell_type": "markdown",
   "metadata": {},
   "source": [
    "According to the above graph, we can say that in case of the 1st column of Y (blue bars), the plot is clearly two discrete values 0 and 1 because the first column has the averages either 0 or 1.\n",
    "\n",
    "The plot of the 10th column of Y (orange bars) somewhat represents a normal curve, while the plot of the last column of Y, i.e. 1000th column (green bars) looks very similar to a bell-shaped normal curve, although in this graph it is concentrated at the center because of scale.\n",
    "\n",
    "This is consistent with the law of large numbers and Central Limit Theorem (CLT), which says that the distribution of a large set of random numbers tends to approximate a normal distribution and since the last column has the most randomness, its distribution is closer to a normal distribution."
   ]
  }
 ],
 "metadata": {
  "kernelspec": {
   "display_name": "Python 3",
   "language": "python",
   "name": "python3"
  },
  "language_info": {
   "codemirror_mode": {
    "name": "ipython",
    "version": 3
   },
   "file_extension": ".py",
   "mimetype": "text/x-python",
   "name": "python",
   "nbconvert_exporter": "python",
   "pygments_lexer": "ipython3",
   "version": "3.6.3"
  }
 },
 "nbformat": 4,
 "nbformat_minor": 2
}
